{
 "cells": [
  {
   "cell_type": "markdown",
   "id": "a86bcac0",
   "metadata": {},
   "source": [
    "# Total File Identifier\n",
    "\n",
    "This script is called the `Total File Identifier` script. It achieves the following goals:\n",
    "* Crawls through the networks and identifies the files (i.e. size and number) and compares it to NCEI.\n",
    "* Specifically Data that exists within multiple networks for each FMC.\n",
    "* Files already archived in NCEI must be marked for deletion at FMC, and files that must be marked for NCEI archival."
   ]
  },
  {
   "cell_type": "markdown",
   "id": "713fa5bb",
   "metadata": {},
   "source": [
    "## Step 1: Fill Out These Variables"
   ]
  },
  {
   "cell_type": "code",
   "execution_count": null,
   "id": "b8cb8a5d",
   "metadata": {},
   "outputs": [],
   "source": [
    "# --- VARIABLES TO FILL OUT ---\n",
    "# ship_name = \"Reuben Lasker\"\n",
    "# cruise_name = \"RL2107\"\n",
    "# echosounder = \"EK80\"\n",
    "# local_echosounder_directory_path = \"../Reuben_Lasker/RL2107/EK80/\"\n",
    "# Set to True if you want to cache files that do not exist in NCEI by uploading\n",
    "# them to GCP.\n",
    "upload_non_s3_files_to_gcp = True\n",
    "gcp_project_id = \"ggn-nmfs-aa-dev-1\"\n",
    "gcp_bucket_name = \"ggn-nmfs-aa-dev-1-data\"\n",
    "\n",
    "# --- VARIABLES TO FILL OUT ---"
   ]
  },
  {
   "cell_type": "markdown",
   "id": "1acf30d5",
   "metadata": {},
   "source": [
    "## Step 2: Run, But Ignore The Following Cells"
   ]
  },
  {
   "cell_type": "code",
   "execution_count": null,
   "id": "97fea116",
   "metadata": {},
   "outputs": [],
   "source": []
  }
 ],
 "metadata": {
  "language_info": {
   "name": "python"
  }
 },
 "nbformat": 4,
 "nbformat_minor": 5
}
